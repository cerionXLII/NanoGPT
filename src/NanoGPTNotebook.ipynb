{
 "cells": [
  {
   "cell_type": "code",
   "execution_count": 1,
   "metadata": {},
   "outputs": [],
   "source": [
    "import numpy as np\n",
    "import matplotlib.pyplot as plt\n",
    "import torch\n",
    "import torch.nn as nn\n",
    "from torch.nn import functional as F\n"
   ]
  },
  {
   "cell_type": "code",
   "execution_count": 2,
   "metadata": {},
   "outputs": [],
   "source": [
    "path = '../data/input.txt'\n",
    "with open(path, 'r', encoding='utf-8') as f:\n",
    "    text = f.read()"
   ]
  },
  {
   "cell_type": "code",
   "execution_count": 3,
   "metadata": {},
   "outputs": [
    {
     "name": "stdout",
     "output_type": "stream",
     "text": [
      "First Citizen:\n",
      "Before we proceed any further, hear me speak.\n",
      "\n",
      "All:\n",
      "Speak, speak.\n",
      "\n",
      "First Citizen:\n",
      "You\n"
     ]
    }
   ],
   "source": [
    "print(text[:100])"
   ]
  },
  {
   "cell_type": "code",
   "execution_count": 4,
   "metadata": {},
   "outputs": [
    {
     "data": {
      "text/plain": [
       "1115394"
      ]
     },
     "execution_count": 4,
     "metadata": {},
     "output_type": "execute_result"
    }
   ],
   "source": [
    "len(text)"
   ]
  },
  {
   "cell_type": "code",
   "execution_count": 5,
   "metadata": {},
   "outputs": [
    {
     "name": "stdout",
     "output_type": "stream",
     "text": [
      "\n",
      " !$&',-.3:;?ABCDEFGHIJKLMNOPQRSTUVWXYZabcdefghijklmnopqrstuvwxyz\n",
      "65\n"
     ]
    }
   ],
   "source": [
    "# Get all chracters of the dataset and create a vocabulary\n",
    "chars = sorted(list(set(text)))\n",
    "vocab_size = len(chars)\n",
    "print(''.join(chars))\n",
    "print(vocab_size)"
   ]
  },
  {
   "cell_type": "code",
   "execution_count": 6,
   "metadata": {},
   "outputs": [],
   "source": [
    "# Make a character to integer \n",
    "stoi = {x:i for i,x in enumerate(chars)}\n",
    "\n",
    "# And a integer to character\n",
    "itos = {i:x for x,i in stoi.items()}"
   ]
  },
  {
   "cell_type": "code",
   "execution_count": 7,
   "metadata": {},
   "outputs": [
    {
     "data": {
      "text/plain": [
       "{0: '\\n',\n",
       " 1: ' ',\n",
       " 2: '!',\n",
       " 3: '$',\n",
       " 4: '&',\n",
       " 5: \"'\",\n",
       " 6: ',',\n",
       " 7: '-',\n",
       " 8: '.',\n",
       " 9: '3',\n",
       " 10: ':',\n",
       " 11: ';',\n",
       " 12: '?',\n",
       " 13: 'A',\n",
       " 14: 'B',\n",
       " 15: 'C',\n",
       " 16: 'D',\n",
       " 17: 'E',\n",
       " 18: 'F',\n",
       " 19: 'G',\n",
       " 20: 'H',\n",
       " 21: 'I',\n",
       " 22: 'J',\n",
       " 23: 'K',\n",
       " 24: 'L',\n",
       " 25: 'M',\n",
       " 26: 'N',\n",
       " 27: 'O',\n",
       " 28: 'P',\n",
       " 29: 'Q',\n",
       " 30: 'R',\n",
       " 31: 'S',\n",
       " 32: 'T',\n",
       " 33: 'U',\n",
       " 34: 'V',\n",
       " 35: 'W',\n",
       " 36: 'X',\n",
       " 37: 'Y',\n",
       " 38: 'Z',\n",
       " 39: 'a',\n",
       " 40: 'b',\n",
       " 41: 'c',\n",
       " 42: 'd',\n",
       " 43: 'e',\n",
       " 44: 'f',\n",
       " 45: 'g',\n",
       " 46: 'h',\n",
       " 47: 'i',\n",
       " 48: 'j',\n",
       " 49: 'k',\n",
       " 50: 'l',\n",
       " 51: 'm',\n",
       " 52: 'n',\n",
       " 53: 'o',\n",
       " 54: 'p',\n",
       " 55: 'q',\n",
       " 56: 'r',\n",
       " 57: 's',\n",
       " 58: 't',\n",
       " 59: 'u',\n",
       " 60: 'v',\n",
       " 61: 'w',\n",
       " 62: 'x',\n",
       " 63: 'y',\n",
       " 64: 'z'}"
      ]
     },
     "execution_count": 7,
     "metadata": {},
     "output_type": "execute_result"
    }
   ],
   "source": [
    "itos"
   ]
  },
  {
   "cell_type": "code",
   "execution_count": 8,
   "metadata": {},
   "outputs": [
    {
     "data": {
      "text/plain": [
       "{'\\n': 0,\n",
       " ' ': 1,\n",
       " '!': 2,\n",
       " '$': 3,\n",
       " '&': 4,\n",
       " \"'\": 5,\n",
       " ',': 6,\n",
       " '-': 7,\n",
       " '.': 8,\n",
       " '3': 9,\n",
       " ':': 10,\n",
       " ';': 11,\n",
       " '?': 12,\n",
       " 'A': 13,\n",
       " 'B': 14,\n",
       " 'C': 15,\n",
       " 'D': 16,\n",
       " 'E': 17,\n",
       " 'F': 18,\n",
       " 'G': 19,\n",
       " 'H': 20,\n",
       " 'I': 21,\n",
       " 'J': 22,\n",
       " 'K': 23,\n",
       " 'L': 24,\n",
       " 'M': 25,\n",
       " 'N': 26,\n",
       " 'O': 27,\n",
       " 'P': 28,\n",
       " 'Q': 29,\n",
       " 'R': 30,\n",
       " 'S': 31,\n",
       " 'T': 32,\n",
       " 'U': 33,\n",
       " 'V': 34,\n",
       " 'W': 35,\n",
       " 'X': 36,\n",
       " 'Y': 37,\n",
       " 'Z': 38,\n",
       " 'a': 39,\n",
       " 'b': 40,\n",
       " 'c': 41,\n",
       " 'd': 42,\n",
       " 'e': 43,\n",
       " 'f': 44,\n",
       " 'g': 45,\n",
       " 'h': 46,\n",
       " 'i': 47,\n",
       " 'j': 48,\n",
       " 'k': 49,\n",
       " 'l': 50,\n",
       " 'm': 51,\n",
       " 'n': 52,\n",
       " 'o': 53,\n",
       " 'p': 54,\n",
       " 'q': 55,\n",
       " 'r': 56,\n",
       " 's': 57,\n",
       " 't': 58,\n",
       " 'u': 59,\n",
       " 'v': 60,\n",
       " 'w': 61,\n",
       " 'x': 62,\n",
       " 'y': 63,\n",
       " 'z': 64}"
      ]
     },
     "execution_count": 8,
     "metadata": {},
     "output_type": "execute_result"
    }
   ],
   "source": [
    "stoi"
   ]
  },
  {
   "cell_type": "code",
   "execution_count": 9,
   "metadata": {},
   "outputs": [
    {
     "data": {
      "text/plain": [
       "{0: '\\n',\n",
       " 1: ' ',\n",
       " 2: '!',\n",
       " 3: '$',\n",
       " 4: '&',\n",
       " 5: \"'\",\n",
       " 6: ',',\n",
       " 7: '-',\n",
       " 8: '.',\n",
       " 9: '3',\n",
       " 10: ':',\n",
       " 11: ';',\n",
       " 12: '?',\n",
       " 13: 'A',\n",
       " 14: 'B',\n",
       " 15: 'C',\n",
       " 16: 'D',\n",
       " 17: 'E',\n",
       " 18: 'F',\n",
       " 19: 'G',\n",
       " 20: 'H',\n",
       " 21: 'I',\n",
       " 22: 'J',\n",
       " 23: 'K',\n",
       " 24: 'L',\n",
       " 25: 'M',\n",
       " 26: 'N',\n",
       " 27: 'O',\n",
       " 28: 'P',\n",
       " 29: 'Q',\n",
       " 30: 'R',\n",
       " 31: 'S',\n",
       " 32: 'T',\n",
       " 33: 'U',\n",
       " 34: 'V',\n",
       " 35: 'W',\n",
       " 36: 'X',\n",
       " 37: 'Y',\n",
       " 38: 'Z',\n",
       " 39: 'a',\n",
       " 40: 'b',\n",
       " 41: 'c',\n",
       " 42: 'd',\n",
       " 43: 'e',\n",
       " 44: 'f',\n",
       " 45: 'g',\n",
       " 46: 'h',\n",
       " 47: 'i',\n",
       " 48: 'j',\n",
       " 49: 'k',\n",
       " 50: 'l',\n",
       " 51: 'm',\n",
       " 52: 'n',\n",
       " 53: 'o',\n",
       " 54: 'p',\n",
       " 55: 'q',\n",
       " 56: 'r',\n",
       " 57: 's',\n",
       " 58: 't',\n",
       " 59: 'u',\n",
       " 60: 'v',\n",
       " 61: 'w',\n",
       " 62: 'x',\n",
       " 63: 'y',\n",
       " 64: 'z'}"
      ]
     },
     "execution_count": 9,
     "metadata": {},
     "output_type": "execute_result"
    }
   ],
   "source": [
    "itos"
   ]
  },
  {
   "cell_type": "code",
   "execution_count": 10,
   "metadata": {},
   "outputs": [],
   "source": [
    "#Encode a string character by character\n",
    "encode = lambda charstring: [stoi[c] for c in charstring]\n",
    "\n",
    "#Decode a list of integers to characters\n",
    "decode = lambda intlist: ''.join([itos[i] for i in intlist])"
   ]
  },
  {
   "cell_type": "code",
   "execution_count": 11,
   "metadata": {},
   "outputs": [
    {
     "data": {
      "text/plain": [
       "[53, 57, 58, 51, 39, 41, 49, 39]"
      ]
     },
     "execution_count": 11,
     "metadata": {},
     "output_type": "execute_result"
    }
   ],
   "source": [
    "encode('ostmacka')"
   ]
  },
  {
   "cell_type": "code",
   "execution_count": 12,
   "metadata": {},
   "outputs": [
    {
     "data": {
      "text/plain": [
       "'ostmacka'"
      ]
     },
     "execution_count": 12,
     "metadata": {},
     "output_type": "execute_result"
    }
   ],
   "source": [
    "decode(encode('ostmacka'))"
   ]
  },
  {
   "cell_type": "code",
   "execution_count": 13,
   "metadata": {},
   "outputs": [
    {
     "name": "stdout",
     "output_type": "stream",
     "text": [
      "torch.Size([1115394]) torch.int64\n",
      "tensor([18, 47, 56, 57, 58,  1, 15, 47, 58, 47])\n"
     ]
    }
   ],
   "source": [
    "#Encode our dataset into a torch tensor\n",
    "data = torch.tensor(encode(text), dtype=torch.long)\n",
    "print(data.shape, data.dtype)\n",
    "print(data[:10])"
   ]
  },
  {
   "cell_type": "code",
   "execution_count": 14,
   "metadata": {},
   "outputs": [
    {
     "data": {
      "text/plain": [
       "torch.int64"
      ]
     },
     "execution_count": 14,
     "metadata": {},
     "output_type": "execute_result"
    }
   ],
   "source": [
    "data.dtype"
   ]
  },
  {
   "cell_type": "code",
   "execution_count": 15,
   "metadata": {},
   "outputs": [],
   "source": [
    "n = int(0.9*len(data))\n",
    "traing_data = data[:n]\n",
    "test_data = data[n:]\n"
   ]
  },
  {
   "cell_type": "code",
   "execution_count": 16,
   "metadata": {},
   "outputs": [],
   "source": [
    "#How large our sequence is\n",
    "block_size = 8\n",
    "batch_size = 4"
   ]
  },
  {
   "cell_type": "code",
   "execution_count": 17,
   "metadata": {},
   "outputs": [],
   "source": [
    "def get_batch(X, block_size, batch_size, device='cpu'):\n",
    "    ix = torch.randint(len(X)-block_size, (batch_size,))\n",
    "    x = torch.stack([X[i:i+block_size] for i in ix]).to(device)\n",
    "    y = torch.stack([X[i+1:i+block_size+1] for i in ix]).to(device)\n",
    "    return x, y"
   ]
  },
  {
   "cell_type": "code",
   "execution_count": 18,
   "metadata": {},
   "outputs": [],
   "source": [
    "torch.manual_seed(1337)\n",
    "xb, yb = get_batch(traing_data, block_size, batch_size)"
   ]
  },
  {
   "cell_type": "code",
   "execution_count": 19,
   "metadata": {},
   "outputs": [
    {
     "data": {
      "text/plain": [
       "tensor([[24, 43, 58,  5, 57,  1, 46, 43],\n",
       "        [44, 53, 56,  1, 58, 46, 39, 58],\n",
       "        [52, 58,  1, 58, 46, 39, 58,  1],\n",
       "        [25, 17, 27, 10,  0, 21,  1, 54]])"
      ]
     },
     "execution_count": 19,
     "metadata": {},
     "output_type": "execute_result"
    }
   ],
   "source": [
    "xb"
   ]
  },
  {
   "cell_type": "code",
   "execution_count": 20,
   "metadata": {},
   "outputs": [
    {
     "data": {
      "text/plain": [
       "tensor([[43, 58,  5, 57,  1, 46, 43, 39],\n",
       "        [53, 56,  1, 58, 46, 39, 58,  1],\n",
       "        [58,  1, 58, 46, 39, 58,  1, 46],\n",
       "        [17, 27, 10,  0, 21,  1, 54, 39]])"
      ]
     },
     "execution_count": 20,
     "metadata": {},
     "output_type": "execute_result"
    }
   ],
   "source": [
    "yb"
   ]
  },
  {
   "cell_type": "code",
   "execution_count": 21,
   "metadata": {},
   "outputs": [],
   "source": [
    "embedding = nn.Embedding(vocab_size, 15)"
   ]
  },
  {
   "cell_type": "code",
   "execution_count": 22,
   "metadata": {},
   "outputs": [
    {
     "data": {
      "text/plain": [
       "torch.Size([2, 2, 15])"
      ]
     },
     "execution_count": 22,
     "metadata": {},
     "output_type": "execute_result"
    }
   ],
   "source": [
    "embedding(torch.tensor([[1,2],[1,2]])).shape"
   ]
  },
  {
   "cell_type": "code",
   "execution_count": 23,
   "metadata": {},
   "outputs": [
    {
     "data": {
      "text/plain": [
       "torch.Size([4, 8, 15])"
      ]
     },
     "execution_count": 23,
     "metadata": {},
     "output_type": "execute_result"
    }
   ],
   "source": [
    "embedding(xb).shape"
   ]
  },
  {
   "cell_type": "code",
   "execution_count": 24,
   "metadata": {},
   "outputs": [
    {
     "data": {
      "text/plain": [
       "torch.Size([4, 8])"
      ]
     },
     "execution_count": 24,
     "metadata": {},
     "output_type": "execute_result"
    }
   ],
   "source": [
    "xb.shape"
   ]
  },
  {
   "cell_type": "code",
   "execution_count": 25,
   "metadata": {},
   "outputs": [],
   "source": [
    "B, T, C = embedding(xb).shape\n",
    "tril = torch.tril(torch.ones(T, T))\n",
    "wei = torch.zeros((T,T))\n",
    "wei = wei.masked_fill(tril == 0, float('-inf'))\n",
    "wei = F.softmax(wei, dim = -1)\n",
    "xbow = wei @ embedding(xb)"
   ]
  },
  {
   "cell_type": "code",
   "execution_count": 26,
   "metadata": {},
   "outputs": [
    {
     "data": {
      "text/plain": [
       "tensor([[1.0000, 0.0000, 0.0000, 0.0000, 0.0000, 0.0000, 0.0000, 0.0000],\n",
       "        [0.5000, 0.5000, 0.0000, 0.0000, 0.0000, 0.0000, 0.0000, 0.0000],\n",
       "        [0.3333, 0.3333, 0.3333, 0.0000, 0.0000, 0.0000, 0.0000, 0.0000],\n",
       "        [0.2500, 0.2500, 0.2500, 0.2500, 0.0000, 0.0000, 0.0000, 0.0000],\n",
       "        [0.2000, 0.2000, 0.2000, 0.2000, 0.2000, 0.0000, 0.0000, 0.0000],\n",
       "        [0.1667, 0.1667, 0.1667, 0.1667, 0.1667, 0.1667, 0.0000, 0.0000],\n",
       "        [0.1429, 0.1429, 0.1429, 0.1429, 0.1429, 0.1429, 0.1429, 0.0000],\n",
       "        [0.1250, 0.1250, 0.1250, 0.1250, 0.1250, 0.1250, 0.1250, 0.1250]])"
      ]
     },
     "execution_count": 26,
     "metadata": {},
     "output_type": "execute_result"
    }
   ],
   "source": [
    "wei"
   ]
  },
  {
   "cell_type": "code",
   "execution_count": 27,
   "metadata": {},
   "outputs": [
    {
     "data": {
      "text/plain": [
       "torch.Size([8, 8])"
      ]
     },
     "execution_count": 27,
     "metadata": {},
     "output_type": "execute_result"
    }
   ],
   "source": [
    "wei.shape"
   ]
  },
  {
   "cell_type": "code",
   "execution_count": 28,
   "metadata": {},
   "outputs": [
    {
     "data": {
      "text/plain": [
       "torch.Size([4, 8, 15])"
      ]
     },
     "execution_count": 28,
     "metadata": {},
     "output_type": "execute_result"
    }
   ],
   "source": [
    "xbow.shape"
   ]
  },
  {
   "cell_type": "code",
   "execution_count": 29,
   "metadata": {},
   "outputs": [],
   "source": [
    "head_size = 16\n",
    "key = nn.Linear(C, head_size, bias=False)\n",
    "query = nn.Linear(C, head_size, bias=False)"
   ]
  },
  {
   "cell_type": "code",
   "execution_count": 30,
   "metadata": {},
   "outputs": [],
   "source": [
    "x = torch.randn(B, T, C)"
   ]
  },
  {
   "cell_type": "code",
   "execution_count": 31,
   "metadata": {},
   "outputs": [],
   "source": [
    "\n",
    "k = key(x)\n",
    "q = query(x)"
   ]
  },
  {
   "cell_type": "code",
   "execution_count": 32,
   "metadata": {},
   "outputs": [
    {
     "data": {
      "text/plain": [
       "torch.Size([4, 8, 8])"
      ]
     },
     "execution_count": 32,
     "metadata": {},
     "output_type": "execute_result"
    }
   ],
   "source": [
    "wei = q @ k.transpose(-2,-1) # (B, T, head_size) @ (B, head_size, T) --> (B, T, T)\n",
    "wei.shape\n"
   ]
  },
  {
   "cell_type": "code",
   "execution_count": 33,
   "metadata": {},
   "outputs": [
    {
     "data": {
      "text/plain": [
       "torch.Size([4, 8, 16])"
      ]
     },
     "execution_count": 33,
     "metadata": {},
     "output_type": "execute_result"
    }
   ],
   "source": [
    "q.shape\n"
   ]
  },
  {
   "cell_type": "code",
   "execution_count": 34,
   "metadata": {},
   "outputs": [
    {
     "data": {
      "text/plain": [
       "tensor([[[ 8.4444e-01, -1.2236e-01,  3.0955e-01,  5.1334e-02,  1.3492e+00,\n",
       "          -8.6218e-01,  6.0017e-01, -7.5009e-02],\n",
       "         [-7.4904e-01,  3.0453e-01,  1.7004e-02, -6.1839e-02, -1.9661e+00,\n",
       "           8.1425e-01, -1.0588e-01,  3.5661e-01],\n",
       "         [-1.0378e+00,  1.7232e-01, -3.3471e-01,  3.6014e-01, -9.6117e-02,\n",
       "           2.7524e-01,  2.2733e-02,  5.8080e-02],\n",
       "         [ 4.6279e-01, -5.2776e-01,  4.7290e-01, -1.2831e-01,  7.5252e-02,\n",
       "          -3.9287e-01, -4.1890e-01, -5.1678e-01],\n",
       "         [ 8.9494e-02,  3.6058e-01, -7.3571e-01, -1.5041e-01,  7.4192e-01,\n",
       "           9.4202e-01,  1.1735e-01,  1.2284e+00],\n",
       "         [ 1.1788e+00, -8.8598e-01, -2.2477e-01,  5.6920e-01,  1.0682e+00,\n",
       "          -3.8678e-01,  5.0850e-01,  9.0173e-01],\n",
       "         [ 3.9176e-01, -5.7252e-01,  1.4949e+00, -4.5630e-01, -3.2381e-03,\n",
       "          -9.6991e-01,  2.0642e-01, -3.9829e-01],\n",
       "         [-5.4469e-02, -3.4297e-01, -8.8394e-02,  1.0209e+00,  7.5130e-01,\n",
       "          -7.4260e-01,  2.5856e-01, -2.2920e-01],\n",
       "         [ 4.5278e-01, -1.3078e-01,  1.1285e+00, -4.3931e-01, -1.5576e-01,\n",
       "          -4.6578e-01, -1.8558e-01, -4.2453e-01],\n",
       "         [ 4.9855e-01, -3.0721e-01, -4.2153e-01,  3.9841e-01,  3.2522e-01,\n",
       "          -9.8821e-01, -2.5774e-02, -5.1063e-01],\n",
       "         [-8.4964e-01,  6.1632e-01, -4.2495e-01, -4.2394e-01, -1.5623e-01,\n",
       "           1.2500e+00, -1.1056e-01,  9.1702e-01],\n",
       "         [-5.7395e-02, -5.3239e-01, -1.4625e-01,  1.4473e-01, -6.1509e-01,\n",
       "          -6.6472e-01, -7.8394e-02, -1.1648e-01],\n",
       "         [-7.2664e-01,  1.7730e-01,  1.5330e-01, -6.5057e-01, -2.4330e+00,\n",
       "          -1.3058e-01, -5.7525e-01, -1.1734e-02],\n",
       "         [-4.9063e-02, -1.5929e-01, -3.2751e-01, -4.7422e-02,  4.4446e-01,\n",
       "           1.0974e+00, -4.7149e-01,  3.8399e-02],\n",
       "         [-7.1876e-01,  5.1738e-01,  9.7324e-01,  3.1579e-01, -7.6416e-01,\n",
       "          -3.3826e-01,  8.2682e-02, -1.4399e+00],\n",
       "         [ 4.9231e-01, -1.3276e-01,  2.0682e-01,  1.0614e+00,  8.1725e-01,\n",
       "          -4.1195e-01,  5.6174e-01, -3.0469e-01]],\n",
       "\n",
       "        [[-2.8483e-01, -1.2752e+00,  9.7552e-01, -1.7503e-01, -1.9091e-01,\n",
       "          -4.4557e-01,  1.5451e-01, -7.8611e-02],\n",
       "         [ 5.9448e-01, -6.1633e-03,  7.8494e-02,  1.8063e-01,  5.6312e-01,\n",
       "           7.8841e-01, -3.6702e-01, -2.1069e-01],\n",
       "         [ 7.1758e-01,  6.0756e-01, -4.5905e-01, -1.0697e-01,  1.4101e-02,\n",
       "           9.4800e-02,  5.7160e-01,  2.3772e-01],\n",
       "         [-1.3861e-01,  3.9983e-01,  9.9955e-01, -3.4762e-01, -6.0096e-01,\n",
       "           3.6047e-01, -3.2979e-01,  7.1233e-01],\n",
       "         [-2.4541e-01, -5.4287e-01, -5.5952e-01, -9.7852e-02,  5.0570e-01,\n",
       "          -1.9784e-01,  4.8580e-01, -3.2337e-02],\n",
       "         [ 5.0187e-01, -3.7328e-01,  9.7294e-01, -9.3443e-01, -1.7630e+00,\n",
       "           1.0084e+00,  2.8794e-02,  5.1631e-01],\n",
       "         [-1.8388e-01,  2.5143e-01,  8.8324e-01,  4.8186e-02, -2.7781e-01,\n",
       "           1.2383e-01,  1.6455e-01,  2.9018e-01],\n",
       "         [ 2.6736e-01,  1.6634e-02,  1.1352e-01, -5.4044e-01, -9.9458e-01,\n",
       "           3.0746e-01, -1.4943e-01,  2.3216e-01],\n",
       "         [ 3.6441e-01, -2.4203e-01,  1.2262e+00,  8.5968e-02, -4.3965e-01,\n",
       "           7.1143e-01, -5.5591e-01,  6.8757e-01],\n",
       "         [-9.0458e-02, -7.6765e-01,  8.4020e-02,  4.7666e-01, -3.7567e-01,\n",
       "          -2.9459e-01, -6.1439e-01, -4.3203e-01],\n",
       "         [-2.1573e-02,  4.2143e-03, -1.2254e+00,  1.7380e-01,  1.1747e+00,\n",
       "           1.8729e-02,  3.0023e-01, -7.7325e-01],\n",
       "         [ 3.8109e-01,  4.5771e-01,  3.0035e-01,  1.3927e-01, -3.8023e-01,\n",
       "           1.3814e-01,  5.3007e-01, -1.1892e-01],\n",
       "         [-2.6211e-03,  5.5464e-01, -5.6032e-01,  7.8807e-01,  6.0667e-01,\n",
       "          -2.7549e-01,  1.1095e-01, -5.8185e-01],\n",
       "         [ 2.0820e-01, -5.7521e-01, -4.7446e-02, -4.0590e-01,  3.8576e-05,\n",
       "           5.7948e-01,  4.5190e-01,  1.0778e+00],\n",
       "         [-1.4732e-01,  4.6386e-01,  4.2719e-01,  6.4059e-01,  4.6584e-01,\n",
       "          -3.3491e-01, -9.9380e-01,  9.2128e-02],\n",
       "         [ 1.0043e-01, -3.4055e-01,  1.0135e+00, -8.5448e-01, -8.4083e-01,\n",
       "           4.1019e-01, -2.6852e-01,  8.9458e-01]],\n",
       "\n",
       "        [[ 2.9839e-01,  8.8240e-01,  3.7081e-01,  9.9185e-02,  1.4121e-01,\n",
       "          -4.4418e-01,  5.3922e-02, -5.1634e-01],\n",
       "         [-2.4307e-01, -2.7618e-01,  7.7370e-01,  3.2328e-01,  7.9276e-01,\n",
       "          -7.7409e-01, -5.7259e-01,  5.3161e-01],\n",
       "         [-1.0612e-01, -3.7539e-01,  8.1348e-01, -1.2472e+00, -5.0630e-01,\n",
       "           1.8123e-01, -4.2876e-01, -1.9725e+00],\n",
       "         [ 9.3202e-01,  2.5596e-01, -4.3159e-01,  1.1352e-02,  1.2203e-01,\n",
       "           5.2775e-02,  9.5638e-02, -2.3933e-01],\n",
       "         [-1.0917e-01,  4.6630e-01,  6.0562e-01, -1.1388e-01, -4.8505e-01,\n",
       "           3.0734e-01, -4.0489e-01, -1.1014e+00],\n",
       "         [ 1.0776e+00,  9.2055e-01, -5.0190e-01,  2.7826e-01, -1.7098e-01,\n",
       "           4.9268e-01,  2.7786e-01, -6.6890e-01],\n",
       "         [ 3.4508e-01, -1.3802e-01,  3.2722e-02, -1.0004e+00, -2.0028e-01,\n",
       "           1.8241e-01,  9.9056e-01, -1.0905e-01],\n",
       "         [ 2.7124e-01,  1.2448e-01, -1.3638e-02, -5.8749e-01, -4.5131e-01,\n",
       "           5.9410e-01,  2.2081e-01, -5.7510e-01],\n",
       "         [ 2.3451e-01,  1.1540e-01,  3.6808e-02, -4.8587e-01,  1.7254e-01,\n",
       "          -1.3962e+00, -2.2736e-01, -1.0090e+00],\n",
       "         [ 1.3646e-01,  3.3177e-02,  3.7324e-02,  4.8453e-01,  1.5536e-01,\n",
       "           1.0434e-01, -2.1190e-01,  2.5845e-02],\n",
       "         [-9.5490e-01,  3.5346e-01,  8.3962e-01, -2.5043e-01,  8.6904e-01,\n",
       "          -6.1916e-01, -8.5299e-01,  2.4163e-01],\n",
       "         [ 9.9227e-01,  2.3638e-01,  7.0536e-01, -1.2357e-01,  5.2292e-01,\n",
       "           6.0287e-01,  4.9292e-01, -2.7536e-01],\n",
       "         [-8.7534e-02, -1.4743e+00,  1.9146e-02,  2.4226e-01,  6.4622e-01,\n",
       "          -1.6570e-01,  5.6462e-02,  1.7110e+00],\n",
       "         [-3.2964e-01, -6.8535e-01, -4.6133e-01, -4.9946e-01,  7.0110e-01,\n",
       "          -7.7849e-01, -7.7527e-01, -9.3235e-01],\n",
       "         [-5.3157e-01, -3.4243e-01,  3.8788e-01, -3.4035e-01, -7.5047e-01,\n",
       "          -2.3596e-01,  5.4985e-01,  1.6763e-01],\n",
       "         [ 5.7084e-01,  5.1854e-01, -1.0565e-01, -1.7837e-02, -1.2374e+00,\n",
       "           6.8581e-01,  6.9141e-01, -8.3372e-01]],\n",
       "\n",
       "        [[ 6.5720e-01, -1.0906e+00, -5.6133e-01, -1.7529e-01, -4.4401e-01,\n",
       "           4.3535e-01, -1.4771e-02, -2.1989e-01],\n",
       "         [-7.1507e-02, -2.1062e-01,  7.7101e-01, -5.4575e-01,  5.4209e-02,\n",
       "          -3.3914e-01,  4.9578e-01, -1.6792e-01],\n",
       "         [ 1.3163e-01,  8.1108e-01, -1.0643e-01, -4.9120e-01, -9.8966e-02,\n",
       "          -5.8056e-01, -7.1097e-01,  1.1446e+00],\n",
       "         [ 2.0521e-01, -5.3559e-01, -4.2052e-01, -1.6198e-02,  6.0151e-01,\n",
       "           3.9396e-01,  1.7111e-01, -1.4547e-01],\n",
       "         [ 5.2132e-01,  1.0230e+00, -1.6432e-01, -3.4174e-01, -4.4077e-03,\n",
       "          -1.3848e+00, -6.4665e-01, -1.6963e-02],\n",
       "         [ 9.4089e-01, -3.7995e-01, -1.0067e+00, -3.4723e-01,  1.1098e-01,\n",
       "          -2.6620e-01,  2.6267e-01,  6.5836e-01],\n",
       "         [-3.4377e-01,  2.6345e-01, -4.6482e-01,  1.0503e+00,  4.1840e-01,\n",
       "           1.0564e+00,  3.5848e-02, -2.7638e-01],\n",
       "         [ 4.7300e-01, -7.7668e-01, -3.1530e-01, -8.5889e-01, -7.8680e-01,\n",
       "          -8.6633e-02,  1.5237e-01,  8.0719e-01],\n",
       "         [-5.1634e-01,  3.1194e-01, -9.6781e-01, -2.0046e-02,  9.5444e-01,\n",
       "           9.3925e-01,  3.4268e-01,  7.2446e-01],\n",
       "         [-6.1335e-02, -2.2643e-02,  2.2563e-01, -1.1364e+00, -3.4272e-02,\n",
       "           4.2509e-01, -4.8813e-01, -1.0394e-01],\n",
       "         [-2.7912e-01, -8.5870e-02,  5.5288e-01, -7.9069e-01, -4.6172e-01,\n",
       "          -1.3726e+00,  5.3072e-02, -7.6042e-01],\n",
       "         [ 8.5409e-01, -2.3908e-01, -2.9934e-02, -5.9242e-01,  4.2264e-01,\n",
       "          -8.9448e-02, -5.9559e-01, -1.3050e-01],\n",
       "         [-5.9005e-01,  7.6621e-01,  9.8272e-01,  1.1556e+00,  7.0926e-01,\n",
       "           1.0310e+00, -2.8156e-01, -6.3070e-01],\n",
       "         [ 1.3931e-01, -2.7597e-02, -1.4082e-01,  5.4588e-01,  7.8838e-01,\n",
       "          -5.8056e-01,  6.6142e-01,  4.6704e-01],\n",
       "         [-5.6818e-01, -1.6341e-01,  2.0523e-01, -4.9645e-01, -5.2630e-01,\n",
       "           3.7714e-01,  5.3110e-01,  2.9750e-01],\n",
       "         [ 9.3907e-01, -8.2795e-01, -6.3654e-01, -2.4377e-01, -7.4021e-01,\n",
       "          -2.8896e-02,  4.8734e-01,  1.0938e+00]]],\n",
       "       grad_fn=<TransposeBackward0>)"
      ]
     },
     "execution_count": 34,
     "metadata": {},
     "output_type": "execute_result"
    }
   ],
   "source": [
    "k.transpose(-2,-1)"
   ]
  },
  {
   "cell_type": "code",
   "execution_count": 35,
   "metadata": {},
   "outputs": [
    {
     "data": {
      "text/plain": [
       "tensor([[[-0.0140, -0.2557, -1.1456, -0.0650, -0.8981],\n",
       "         [ 0.6004, -0.0039,  0.9268, -0.9033, -1.8009],\n",
       "         [ 0.7865, -1.8513, -0.2894, -0.6531,  0.9476],\n",
       "         [-0.4904,  0.1995,  1.2089, -0.7427,  0.1015]],\n",
       "\n",
       "        [[-0.7365, -0.6101, -1.1973, -1.1110, -0.7467],\n",
       "         [-1.0201,  2.0264,  0.7080, -0.0137,  1.8259],\n",
       "         [ 1.5226,  0.6569, -1.7636, -0.7221, -0.9141],\n",
       "         [-0.8221, -1.6358, -1.3221, -1.2953, -0.6008]],\n",
       "\n",
       "        [[-0.9921, -0.2697,  0.1637,  2.1167, -0.9206],\n",
       "         [-0.6119, -0.4034,  0.3025,  0.6852, -1.0045],\n",
       "         [-1.0104, -1.0886, -0.9840,  0.5912, -1.1082],\n",
       "         [-1.2869, -0.8170,  0.9682,  1.6030, -0.0726]]])"
      ]
     },
     "execution_count": 35,
     "metadata": {},
     "output_type": "execute_result"
    }
   ],
   "source": [
    "x = torch.randn(3, 4, 5)\n",
    "x"
   ]
  },
  {
   "cell_type": "code",
   "execution_count": 36,
   "metadata": {},
   "outputs": [
    {
     "data": {
      "text/plain": [
       "tensor([[[-0.0140,  0.6004,  0.7865, -0.4904],\n",
       "         [-0.2557, -0.0039, -1.8513,  0.1995],\n",
       "         [-1.1456,  0.9268, -0.2894,  1.2089],\n",
       "         [-0.0650, -0.9033, -0.6531, -0.7427],\n",
       "         [-0.8981, -1.8009,  0.9476,  0.1015]],\n",
       "\n",
       "        [[-0.7365, -1.0201,  1.5226, -0.8221],\n",
       "         [-0.6101,  2.0264,  0.6569, -1.6358],\n",
       "         [-1.1973,  0.7080, -1.7636, -1.3221],\n",
       "         [-1.1110, -0.0137, -0.7221, -1.2953],\n",
       "         [-0.7467,  1.8259, -0.9141, -0.6008]],\n",
       "\n",
       "        [[-0.9921, -0.6119, -1.0104, -1.2869],\n",
       "         [-0.2697, -0.4034, -1.0886, -0.8170],\n",
       "         [ 0.1637,  0.3025, -0.9840,  0.9682],\n",
       "         [ 2.1167,  0.6852,  0.5912,  1.6030],\n",
       "         [-0.9206, -1.0045, -1.1082, -0.0726]]])"
      ]
     },
     "execution_count": 36,
     "metadata": {},
     "output_type": "execute_result"
    }
   ],
   "source": [
    "x.transpose(2,1)"
   ]
  },
  {
   "cell_type": "code",
   "execution_count": 37,
   "metadata": {},
   "outputs": [
    {
     "data": {
      "text/plain": [
       "True"
      ]
     },
     "execution_count": 37,
     "metadata": {},
     "output_type": "execute_result"
    }
   ],
   "source": [
    "x.transpose(1,2).allclose(x.transpose(2,1))"
   ]
  },
  {
   "cell_type": "code",
   "execution_count": 38,
   "metadata": {},
   "outputs": [],
   "source": [
    "# Define a self-attention head\n",
    "class Head(nn.Module):\n",
    "    \"\"\" \n",
    "    One single head of self-attention\n",
    "    block_size: The largest input length (number of tokens)\n",
    "    embed_size: The size of the embedding layer: token --> [embed_size]\n",
    "    head_size: The size of the key, query, value matrices ('Hidden state')\n",
    "    dropout_rate: The size of the dropout, used at training time\n",
    "    \"\"\"\n",
    "    \n",
    "    def __init__(self, block_size, embed_size, head_size, dropout_rate=0.2):\n",
    "        super().__init__()\n",
    "        self.key = nn.Linear(embed_size, head_size, bias=False)\n",
    "        self.query = nn.Linear(embed_size, head_size, bias=False)\n",
    "        self.value = nn.Linear(embed_size, head_size, bias=False)\n",
    "        self.register_buffer('tril', torch.tril(torch.ones(block_size, block_size))) #Lower triangular matrix used to mask out inputs of earlier times\n",
    "        self.dropout = nn.Dropout(dropout_rate)\n",
    "\n",
    "    def forward(self, x):\n",
    "        B, T, C = x.shape\n",
    "        k = self.key(x) # (B, T, C)\n",
    "        q = self.query(x) # (B, T, C)\n",
    "        v = self.value(x) # (B, T, C)\n",
    "        \n",
    "        # Compute attention values, that is multiply query and keys\n",
    "        w = q @ k.transpose(-2,-1) * k.shape[-1]**(-0.5) # (B, T, C) @ (B, C, T) ---> (B, T, T) (Divided by sqrt of C to scale)\n",
    "        w = w.masked_fill(self.tril[:T, :T] == 0, float('-inf')) # (B, T, T), adding -inf to values outside of the lower triangular part, that is to words that we havn't yet seen\n",
    "        w = F.softmax(w, dim=-1) # (B, T, T) #Softmax now takes the average of the values leading up to this time T\n",
    "        w = self.dropout(w) #Add dropout\n",
    "\n",
    "        #Multiply the output with the value matrix\n",
    "        out = w @ v # (B, T, T) @ (B, T, C) --> (B, T, C)\n",
    "        return out    \n",
    "\n",
    "\n",
    "\n"
   ]
  },
  {
   "cell_type": "code",
   "execution_count": 39,
   "metadata": {},
   "outputs": [],
   "source": [
    "class MultiHeadAttention(nn.Module):\n",
    "    def __init__(self, num_heads, block_size, embed_size, head_size, dropout_rate=0.2):\n",
    "        super().__init__()\n",
    "        # Simply create num_heads number of heads\n",
    "        self.heads = nn.ModuleList([Head(block_size, embed_size, head_size, dropout_rate) for _ in range(num_heads)])\n",
    "        self.FC = nn.Linear(head_size * num_heads, embed_size) #Fully connected layer\n",
    "        self.dropout = nn.Dropout(dropout_rate) #Dropout for regularization\n",
    "\n",
    "\n",
    "    def forward(self, x):\n",
    "        out = torch.cat([h(x) for h in self.heads], dim = -1) #Simply concatinate the multiple heads\n",
    "        out = self.FC(out)\n",
    "        out = self.dropout(out)\n",
    "        return out"
   ]
  },
  {
   "cell_type": "code",
   "execution_count": 40,
   "metadata": {},
   "outputs": [],
   "source": [
    "class FeedForward(nn.Module):\n",
    "    \"\"\" FC1 --> RELU --> FC2 --> Dropout \"\"\"\n",
    "    def __init__(self, embed_size, dropout_rate=0.2):\n",
    "        super().__init__()\n",
    "        self.net = nn.Sequential(\n",
    "            nn.Linear(embed_size, 4 * embed_size),\n",
    "            nn.ReLU(),\n",
    "            nn.Linear(4 * embed_size, embed_size),\n",
    "            nn.Dropout(dropout_rate)\n",
    "        )\n",
    "\n",
    "    def forward(self, x):\n",
    "        return self.net(x)"
   ]
  },
  {
   "cell_type": "code",
   "execution_count": 41,
   "metadata": {},
   "outputs": [],
   "source": [
    "class Block(nn.Module):\n",
    "    \"\"\" Transformer block\n",
    "        num_heads: The number of heads we use\n",
    "        block_size: The largest input length (number of tokens)\n",
    "        embed_size: The size of the embedding layer: token --> [embed_size]\n",
    "        head_size: The size of the key, query, value matrices ('Hidden state')\n",
    "        dropout_rate: The size of the dropout, used at training time    \n",
    "    \"\"\"\n",
    "\n",
    "    def __init__(self, num_heads,  block_size, embed_size, dropout_rate):\n",
    "        super().__init__()\n",
    "        head_size = embed_size // num_heads\n",
    "        self.sa = MultiHeadAttention(num_heads, block_size, embed_size, head_size, dropout_rate)\n",
    "        self.ffwd = FeedForward(embed_size, dropout_rate)\n",
    "        self.layerNorm1 = nn.LayerNorm(embed_size)\n",
    "        self.layerNorm2 = nn.LayerNorm(embed_size)\n",
    "\n",
    "    def forward(self, x):\n",
    "        x = x + self.sa(self.layerNorm1(x))\n",
    "        x = x + self.ffwd(self.layerNorm2(x))\n",
    "        return x\n"
   ]
  },
  {
   "cell_type": "code",
   "execution_count": 56,
   "metadata": {},
   "outputs": [],
   "source": [
    "class LanguageModel(nn.Module):\n",
    "    def __init__(self, n_layers, vocab_size, num_heads, block_size, embed_size, dropout_rate):\n",
    "        super().__init__()\n",
    "        self.token_embedding = nn.Embedding(vocab_size, embed_size)\n",
    "        self.position_embedding = nn.Embedding(block_size, embed_size)\n",
    "        self.blocks = nn.Sequential(*[Block(num_heads,  block_size, embed_size, dropout_rate) for _ in range(n_layers)])\n",
    "        self.layerNorm = nn.LayerNorm(embed_size)\n",
    "        self.FC = nn.Linear(embed_size, vocab_size)\n",
    "        self.block_size = block_size\n",
    "\n",
    "\n",
    "    def forward(self, idx, targets=None):\n",
    "        B, T = idx.shape\n",
    "        device = idx.device\n",
    "\n",
    "        # Embed idx integers to embedding vectors for each token\n",
    "        tok_emb = self.token_embedding(idx) # (B, T, C)\n",
    "        pos_emb = self.position_embedding(torch.arange(T, device=device)) #(T, C)\n",
    "\n",
    "        x = tok_emb + pos_emb # (B, T, C)\n",
    "        x = self.blocks(x) # (B, T, C)\n",
    "        x = self.layerNorm(x) # (B, T, C)\n",
    "\n",
    "        logits = self.FC(x) # (B, T, vocab_size)\n",
    "\n",
    "        if targets is None:\n",
    "            loss = None\n",
    "        else:\n",
    "            B, T, C = logits.shape\n",
    "            logits = logits.view(B*T, C)\n",
    "            targets = targets.view(B*T)\n",
    "\n",
    "            #loss = nn.CrossEntropyLoss(logits, targets)\n",
    "            loss = F.cross_entropy(logits, targets)\n",
    "\n",
    "        return logits, loss\n",
    "    \n",
    "    def generate(self, idx, max_new_tokens):\n",
    "        # idx is (B, T) array of indices in the current context\n",
    "\n",
    "        with torch.no_grad():\n",
    "            self.eval()\n",
    "            for _ in range(max_new_tokens):\n",
    "\n",
    "                #Crop if we have too large input\n",
    "                idx_cond = idx[:, -self.block_size:]\n",
    "\n",
    "                logits, loss = self(idx_cond)\n",
    "\n",
    "                #Take last time step only\n",
    "                logits = logits[:, -1, :] #(B,1,C)\n",
    "\n",
    "                probs = F.softmax(logits, dim = -1) # (B,C)\n",
    "\n",
    "\n",
    "                #Sample from the distribution\n",
    "                idx_next = torch.multinomial(probs, num_samples=1) # (B, 1)\n",
    "\n",
    "                #Append and concatinate\n",
    "                idx = torch.cat((idx, idx_next), dim=1) # (B, T+1)\n",
    "            self.train()\n",
    "\n",
    "        return idx \n",
    "\n",
    "\n",
    "        \n",
    "\n",
    "\n",
    "\n"
   ]
  },
  {
   "cell_type": "code",
   "execution_count": 65,
   "metadata": {},
   "outputs": [],
   "source": [
    "n_layers = 6\n",
    "num_heads = 6\n",
    "embed_size = 384\n",
    "dropout_rate = 0.2\n",
    "\n",
    "max_iters = 5000\n",
    "eval_interval = 500\n",
    "learning_rate = 3e-4\n",
    "device = 'cuda' if torch.cuda.is_available() else 'cpu'\n",
    "eval_iters = 200\n",
    "\n",
    "batch_size = 64 # how many independent sequences will we process in parallel?\n",
    "block_size = 256 # what is the maximum context length for predictions?\n",
    "\n",
    "\n",
    "model = LanguageModel(n_layers, vocab_size, num_heads, block_size, embed_size, dropout_rate)"
   ]
  },
  {
   "cell_type": "code",
   "execution_count": 79,
   "metadata": {},
   "outputs": [
    {
     "name": "stdout",
     "output_type": "stream",
     "text": [
      "10.745088 M parameters\n"
     ]
    }
   ],
   "source": [
    "print(sum(p.numel() for p in model.parameters())/1e6, 'M parameters')"
   ]
  },
  {
   "cell_type": "code",
   "execution_count": 81,
   "metadata": {},
   "outputs": [
    {
     "data": {
      "text/plain": [
       "GPT(\n",
       "  (transformer): ModuleDict(\n",
       "    (wte): Embedding(65, 384)\n",
       "    (wpe): Embedding(256, 384)\n",
       "    (drop): Dropout(p=0.2, inplace=False)\n",
       "    (h): ModuleList(\n",
       "      (0): Block(\n",
       "        (ln_1): LayerNorm()\n",
       "        (attn): CausalSelfAttention(\n",
       "          (c_attn): Linear(in_features=384, out_features=1152, bias=False)\n",
       "          (c_proj): Linear(in_features=384, out_features=384, bias=False)\n",
       "          (attn_dropout): Dropout(p=0.2, inplace=False)\n",
       "          (resid_dropout): Dropout(p=0.2, inplace=False)\n",
       "        )\n",
       "        (ln_2): LayerNorm()\n",
       "        (mlp): MLP(\n",
       "          (c_fc): Linear(in_features=384, out_features=1536, bias=False)\n",
       "          (gelu): GELU(approximate='none')\n",
       "          (c_proj): Linear(in_features=1536, out_features=384, bias=False)\n",
       "          (dropout): Dropout(p=0.2, inplace=False)\n",
       "        )\n",
       "      )\n",
       "      (1): Block(\n",
       "        (ln_1): LayerNorm()\n",
       "        (attn): CausalSelfAttention(\n",
       "          (c_attn): Linear(in_features=384, out_features=1152, bias=False)\n",
       "          (c_proj): Linear(in_features=384, out_features=384, bias=False)\n",
       "          (attn_dropout): Dropout(p=0.2, inplace=False)\n",
       "          (resid_dropout): Dropout(p=0.2, inplace=False)\n",
       "        )\n",
       "        (ln_2): LayerNorm()\n",
       "        (mlp): MLP(\n",
       "          (c_fc): Linear(in_features=384, out_features=1536, bias=False)\n",
       "          (gelu): GELU(approximate='none')\n",
       "          (c_proj): Linear(in_features=1536, out_features=384, bias=False)\n",
       "          (dropout): Dropout(p=0.2, inplace=False)\n",
       "        )\n",
       "      )\n",
       "      (2): Block(\n",
       "        (ln_1): LayerNorm()\n",
       "        (attn): CausalSelfAttention(\n",
       "          (c_attn): Linear(in_features=384, out_features=1152, bias=False)\n",
       "          (c_proj): Linear(in_features=384, out_features=384, bias=False)\n",
       "          (attn_dropout): Dropout(p=0.2, inplace=False)\n",
       "          (resid_dropout): Dropout(p=0.2, inplace=False)\n",
       "        )\n",
       "        (ln_2): LayerNorm()\n",
       "        (mlp): MLP(\n",
       "          (c_fc): Linear(in_features=384, out_features=1536, bias=False)\n",
       "          (gelu): GELU(approximate='none')\n",
       "          (c_proj): Linear(in_features=1536, out_features=384, bias=False)\n",
       "          (dropout): Dropout(p=0.2, inplace=False)\n",
       "        )\n",
       "      )\n",
       "      (3): Block(\n",
       "        (ln_1): LayerNorm()\n",
       "        (attn): CausalSelfAttention(\n",
       "          (c_attn): Linear(in_features=384, out_features=1152, bias=False)\n",
       "          (c_proj): Linear(in_features=384, out_features=384, bias=False)\n",
       "          (attn_dropout): Dropout(p=0.2, inplace=False)\n",
       "          (resid_dropout): Dropout(p=0.2, inplace=False)\n",
       "        )\n",
       "        (ln_2): LayerNorm()\n",
       "        (mlp): MLP(\n",
       "          (c_fc): Linear(in_features=384, out_features=1536, bias=False)\n",
       "          (gelu): GELU(approximate='none')\n",
       "          (c_proj): Linear(in_features=1536, out_features=384, bias=False)\n",
       "          (dropout): Dropout(p=0.2, inplace=False)\n",
       "        )\n",
       "      )\n",
       "      (4): Block(\n",
       "        (ln_1): LayerNorm()\n",
       "        (attn): CausalSelfAttention(\n",
       "          (c_attn): Linear(in_features=384, out_features=1152, bias=False)\n",
       "          (c_proj): Linear(in_features=384, out_features=384, bias=False)\n",
       "          (attn_dropout): Dropout(p=0.2, inplace=False)\n",
       "          (resid_dropout): Dropout(p=0.2, inplace=False)\n",
       "        )\n",
       "        (ln_2): LayerNorm()\n",
       "        (mlp): MLP(\n",
       "          (c_fc): Linear(in_features=384, out_features=1536, bias=False)\n",
       "          (gelu): GELU(approximate='none')\n",
       "          (c_proj): Linear(in_features=1536, out_features=384, bias=False)\n",
       "          (dropout): Dropout(p=0.2, inplace=False)\n",
       "        )\n",
       "      )\n",
       "      (5): Block(\n",
       "        (ln_1): LayerNorm()\n",
       "        (attn): CausalSelfAttention(\n",
       "          (c_attn): Linear(in_features=384, out_features=1152, bias=False)\n",
       "          (c_proj): Linear(in_features=384, out_features=384, bias=False)\n",
       "          (attn_dropout): Dropout(p=0.2, inplace=False)\n",
       "          (resid_dropout): Dropout(p=0.2, inplace=False)\n",
       "        )\n",
       "        (ln_2): LayerNorm()\n",
       "        (mlp): MLP(\n",
       "          (c_fc): Linear(in_features=384, out_features=1536, bias=False)\n",
       "          (gelu): GELU(approximate='none')\n",
       "          (c_proj): Linear(in_features=1536, out_features=384, bias=False)\n",
       "          (dropout): Dropout(p=0.2, inplace=False)\n",
       "        )\n",
       "      )\n",
       "    )\n",
       "    (ln_f): LayerNorm()\n",
       "  )\n",
       "  (lm_head): Linear(in_features=384, out_features=65, bias=False)\n",
       ")"
      ]
     },
     "execution_count": 81,
     "metadata": {},
     "output_type": "execute_result"
    }
   ],
   "source": [
    "model.to(device)"
   ]
  },
  {
   "cell_type": "code",
   "execution_count": 82,
   "metadata": {},
   "outputs": [],
   "source": [
    "optimizer = torch.optim.AdamW(model.parameters(), lr=learning_rate)"
   ]
  },
  {
   "cell_type": "code",
   "execution_count": 83,
   "metadata": {},
   "outputs": [
    {
     "name": "stdout",
     "output_type": "stream",
     "text": [
      "step 0: train loss 4.3342, val loss 4.3262\n",
      "step 500: train loss 2.0202, val loss 2.0924\n",
      "step 1000: train loss 1.5337, val loss 1.7181\n",
      "step 1500: train loss 1.3568, val loss 1.5692\n",
      "step 2000: train loss 1.2591, val loss 1.5082\n",
      "step 2500: train loss 1.1936, val loss 1.4834\n",
      "step 3000: train loss 1.1315, val loss 1.4652\n",
      "step 3500: train loss 1.0823, val loss 1.4776\n",
      "step 4000: train loss 1.0269, val loss 1.4803\n",
      "step 4500: train loss 0.9757, val loss 1.5044\n",
      "step 4999: train loss 0.9209, val loss 1.5254\n"
     ]
    }
   ],
   "source": [
    "\n",
    "for iter in range(max_iters):\n",
    "\n",
    "    # every once in a while evaluate the loss on train and val sets\n",
    "    if iter % eval_interval == 0 or iter == max_iters - 1:\n",
    "        losses = {}\n",
    "        model.eval()\n",
    "        for data, name in zip([traing_data, test_data], ['train', 'val']):\n",
    "            loss_vect = torch.zeros(eval_iters)\n",
    "            for k in range(eval_iters):\n",
    "                X, Y = get_batch(data, block_size, batch_size, device)\n",
    "                logits, loss = model(X, Y)\n",
    "                loss_vect[k] = loss.item()\n",
    "            losses[name] = loss_vect.mean()\n",
    "        model.train()\n",
    "        \n",
    "        print(f\"step {iter}: train loss {losses['train']:.4f}, val loss {losses['val']:.4f}\")\n",
    "\n",
    "    # sample a batch of data\n",
    "    xb, yb = get_batch(traing_data, block_size, batch_size, device)\n",
    "\n",
    "    # evaluate the loss\n",
    "    logits, loss = model(xb, yb)\n",
    "    optimizer.zero_grad(set_to_none=True)\n",
    "    loss.backward()\n",
    "    optimizer.step()"
   ]
  },
  {
   "cell_type": "code",
   "execution_count": 84,
   "metadata": {},
   "outputs": [
    {
     "name": "stdout",
     "output_type": "stream",
     "text": [
      "\n",
      "\n",
      "AUTOLYBRAKE VOLINRO:\n",
      "Miseriable dog! then heaven she be offence.\n",
      "Indeed thee, good day pardon to our mosther's death,\n",
      "To breathe with usurped, wretched witness,\n",
      "And frown ago rudge the mighty of bastary,\n",
      "Such an intellihoodand osing those famous scareless.\n",
      "A charged instrument, and time well make holy mean,\n",
      "And mark how to know, enjoy'd her names,\n",
      "Many a gainsaysay, vetured Coriolanus:\n",
      "He will have prevented to manuments with his ear.\n",
      "\n",
      "LEONTES:\n",
      "Thatis the grace have done, but I know, we hear?\n",
      "\n",
      "MAMILLIUS:\n",
      "Never to bear he saints, and say the house\n",
      "That our practorisk it, tell me so on,\n",
      "An i' the many proceedings Corioli; forfaith, virging,\n",
      "Hear mercy from his fearful cry Isk?\n",
      "\n",
      "CATESBY:\n",
      "To God make him resating gae thee Cliffords:\n",
      "Signior Harry Bedurgundy, the boy of Call,\n",
      "Furio Frughth, prefive and Dorset, encestomate:\n",
      "Bletter out fol, its he begg' to stride him with all:\n",
      "Some many of tastesmen, away false goes\n",
      "Shall have loin upon the triumph and desconding power.\n",
      "\n",
      "PERDITA:\n",
      "That we doth ask intents thy fathers state\n",
      "Make seven years applips their one dying bends.\n",
      "\n",
      "QUEEN:\n",
      "Dight grant any of fault mine eyes!\n",
      "\n",
      "Girl:\n",
      "What impatch Clifford canst have I might help to-night?\n",
      "And how they now, cursed against hither shame\n",
      "That may prosper selves it. Once are your inherited.\n",
      "\n",
      "HERMIONE:\n",
      "Look, doth she you find, and play thee news in.\n",
      "Answer now of Hyw, Lords, be buckle despair,\n",
      "When youth we crook to lose your mother keeps\n",
      "A dace harm doth accusarion with her adversal load;\n",
      "But pardon \n"
     ]
    }
   ],
   "source": [
    "# generate from the model\n",
    "context = torch.zeros((1, 1), dtype=torch.long, device=device)\n",
    "print(decode(model.generate(context, max_new_tokens=1500)[0].tolist()))"
   ]
  },
  {
   "cell_type": "code",
   "execution_count": null,
   "metadata": {},
   "outputs": [],
   "source": []
  },
  {
   "attachments": {},
   "cell_type": "markdown",
   "metadata": {},
   "source": [
    "# Alternative GPT Model by Andrey Karpathy below"
   ]
  },
  {
   "cell_type": "code",
   "execution_count": 73,
   "metadata": {},
   "outputs": [],
   "source": [
    "import math\n",
    "import inspect\n",
    "from dataclasses import dataclass\n",
    "\n",
    "import torch\n",
    "import torch.nn as nn\n",
    "from torch.nn import functional as F\n",
    "\n",
    "class LayerNorm(nn.Module):\n",
    "    \"\"\" LayerNorm but with an optional bias. PyTorch doesn't support simply bias=False \"\"\"\n",
    "\n",
    "    def __init__(self, ndim, bias):\n",
    "        super().__init__()\n",
    "        self.weight = nn.Parameter(torch.ones(ndim))\n",
    "        self.bias = nn.Parameter(torch.zeros(ndim)) if bias else None\n",
    "\n",
    "    def forward(self, input):\n",
    "        return F.layer_norm(input, self.weight.shape, self.weight, self.bias, 1e-5)\n",
    "\n",
    "class CausalSelfAttention(nn.Module):\n",
    "\n",
    "    def __init__(self, config):\n",
    "        super().__init__()\n",
    "        assert config.n_embd % config.n_head == 0\n",
    "        # key, query, value projections for all heads, but in a batch\n",
    "        self.c_attn = nn.Linear(config.n_embd, 3 * config.n_embd, bias=config.bias)\n",
    "        # output projection\n",
    "        self.c_proj = nn.Linear(config.n_embd, config.n_embd, bias=config.bias)\n",
    "        # regularization\n",
    "        self.attn_dropout = nn.Dropout(config.dropout)\n",
    "        self.resid_dropout = nn.Dropout(config.dropout)\n",
    "        self.n_head = config.n_head\n",
    "        self.n_embd = config.n_embd\n",
    "        self.dropout = config.dropout\n",
    "        # flash attention make GPU go brrrrr but support is only in PyTorch >= 2.0\n",
    "        self.flash = hasattr(torch.nn.functional, 'scaled_dot_product_attention')\n",
    "        if not self.flash:\n",
    "            print(\"WARNING: using slow attention. Flash Attention requires PyTorch >= 2.0\")\n",
    "            # causal mask to ensure that attention is only applied to the left in the input sequence\n",
    "            self.register_buffer(\"bias\", torch.tril(torch.ones(config.block_size, config.block_size))\n",
    "                                        .view(1, 1, config.block_size, config.block_size))\n",
    "\n",
    "    def forward(self, x):\n",
    "        B, T, C = x.size() # batch size, sequence length, embedding dimensionality (n_embd)\n",
    "\n",
    "        # calculate query, key, values for all heads in batch and move head forward to be the batch dim\n",
    "        q, k, v  = self.c_attn(x).split(self.n_embd, dim=2)\n",
    "        k = k.view(B, T, self.n_head, C // self.n_head).transpose(1, 2) # (B, nh, T, hs)\n",
    "        q = q.view(B, T, self.n_head, C // self.n_head).transpose(1, 2) # (B, nh, T, hs)\n",
    "        v = v.view(B, T, self.n_head, C // self.n_head).transpose(1, 2) # (B, nh, T, hs)\n",
    "\n",
    "        # causal self-attention; Self-attend: (B, nh, T, hs) x (B, nh, hs, T) -> (B, nh, T, T)\n",
    "        if self.flash:\n",
    "            # efficient attention using Flash Attention CUDA kernels\n",
    "            y = torch.nn.functional.scaled_dot_product_attention(q, k, v, attn_mask=None, dropout_p=self.dropout if self.training else 0, is_causal=True)\n",
    "        else:\n",
    "            # manual implementation of attention\n",
    "            att = (q @ k.transpose(-2, -1)) * (1.0 / math.sqrt(k.size(-1)))\n",
    "            att = att.masked_fill(self.bias[:,:,:T,:T] == 0, float('-inf'))\n",
    "            att = F.softmax(att, dim=-1)\n",
    "            att = self.attn_dropout(att)\n",
    "            y = att @ v # (B, nh, T, T) x (B, nh, T, hs) -> (B, nh, T, hs)\n",
    "        y = y.transpose(1, 2).contiguous().view(B, T, C) # re-assemble all head outputs side by side\n",
    "\n",
    "        # output projection\n",
    "        y = self.resid_dropout(self.c_proj(y))\n",
    "        return y\n",
    "\n",
    "class MLP(nn.Module):\n",
    "\n",
    "    def __init__(self, config):\n",
    "        super().__init__()\n",
    "        self.c_fc    = nn.Linear(config.n_embd, 4 * config.n_embd, bias=config.bias)\n",
    "        self.gelu    = nn.GELU()\n",
    "        self.c_proj  = nn.Linear(4 * config.n_embd, config.n_embd, bias=config.bias)\n",
    "        self.dropout = nn.Dropout(config.dropout)\n",
    "\n",
    "    def forward(self, x):\n",
    "        x = self.c_fc(x)\n",
    "        x = self.gelu(x)\n",
    "        x = self.c_proj(x)\n",
    "        x = self.dropout(x)\n",
    "        return x\n",
    "\n",
    "class Block(nn.Module):\n",
    "\n",
    "    def __init__(self, config):\n",
    "        super().__init__()\n",
    "        self.ln_1 = LayerNorm(config.n_embd, bias=config.bias)\n",
    "        self.attn = CausalSelfAttention(config)\n",
    "        self.ln_2 = LayerNorm(config.n_embd, bias=config.bias)\n",
    "        self.mlp = MLP(config)\n",
    "\n",
    "    def forward(self, x):\n",
    "        x = x + self.attn(self.ln_1(x))\n",
    "        x = x + self.mlp(self.ln_2(x))\n",
    "        return x\n",
    "\n",
    "@dataclass\n",
    "class GPTConfig:\n",
    "    block_size: int = 1024\n",
    "    vocab_size: int = 50304 # GPT-2 vocab_size of 50257, padded up to nearest multiple of 64 for efficiency\n",
    "    n_layer: int = 12\n",
    "    n_head: int = 12\n",
    "    n_embd: int = 768\n",
    "    dropout: float = 0.0\n",
    "    bias: bool = True # True: bias in Linears and LayerNorms, like GPT-2. False: a bit better and faster\n",
    "\n",
    "class GPT(nn.Module):\n",
    "\n",
    "    def __init__(self, config):\n",
    "        super().__init__()\n",
    "        assert config.vocab_size is not None\n",
    "        assert config.block_size is not None\n",
    "        self.config = config\n",
    "\n",
    "        self.transformer = nn.ModuleDict(dict(\n",
    "            wte = nn.Embedding(config.vocab_size, config.n_embd),\n",
    "            wpe = nn.Embedding(config.block_size, config.n_embd),\n",
    "            drop = nn.Dropout(config.dropout),\n",
    "            h = nn.ModuleList([Block(config) for _ in range(config.n_layer)]),\n",
    "            ln_f = LayerNorm(config.n_embd, bias=config.bias),\n",
    "        ))\n",
    "        self.lm_head = nn.Linear(config.n_embd, config.vocab_size, bias=False)\n",
    "        # with weight tying when using torch.compile() some warnings get generated:\n",
    "        # \"UserWarning: functional_call was passed multiple values for tied weights.\n",
    "        # This behavior is deprecated and will be an error in future versions\"\n",
    "        # not 100% sure what this is, so far seems to be harmless. TODO investigate\n",
    "        self.transformer.wte.weight = self.lm_head.weight # https://paperswithcode.com/method/weight-tying\n",
    "\n",
    "        # init all weights\n",
    "        self.apply(self._init_weights)\n",
    "        # apply special scaled init to the residual projections, per GPT-2 paper\n",
    "        for pn, p in self.named_parameters():\n",
    "            if pn.endswith('c_proj.weight'):\n",
    "                torch.nn.init.normal_(p, mean=0.0, std=0.02/math.sqrt(2 * config.n_layer))\n",
    "\n",
    "        # report number of parameters\n",
    "        print(\"number of parameters: %.2fM\" % (self.get_num_params()/1e6,))\n",
    "\n",
    "    def get_num_params(self, non_embedding=True):\n",
    "        \"\"\"\n",
    "        Return the number of parameters in the model.\n",
    "        For non-embedding count (default), the position embeddings get subtracted.\n",
    "        The token embeddings would too, except due to the parameter sharing these\n",
    "        params are actually used as weights in the final layer, so we include them.\n",
    "        \"\"\"\n",
    "        n_params = sum(p.numel() for p in self.parameters())\n",
    "        if non_embedding:\n",
    "            n_params -= self.transformer.wpe.weight.numel()\n",
    "        return n_params\n",
    "\n",
    "    def _init_weights(self, module):\n",
    "        if isinstance(module, nn.Linear):\n",
    "            torch.nn.init.normal_(module.weight, mean=0.0, std=0.02)\n",
    "            if module.bias is not None:\n",
    "                torch.nn.init.zeros_(module.bias)\n",
    "        elif isinstance(module, nn.Embedding):\n",
    "            torch.nn.init.normal_(module.weight, mean=0.0, std=0.02)\n",
    "\n",
    "    def forward(self, idx, targets=None):\n",
    "        device = idx.device\n",
    "        b, t = idx.size()\n",
    "        assert t <= self.config.block_size, f\"Cannot forward sequence of length {t}, block size is only {self.config.block_size}\"\n",
    "        pos = torch.arange(0, t, dtype=torch.long, device=device) # shape (t)\n",
    "\n",
    "        # forward the GPT model itself\n",
    "        tok_emb = self.transformer.wte(idx) # token embeddings of shape (b, t, n_embd)\n",
    "        pos_emb = self.transformer.wpe(pos) # position embeddings of shape (t, n_embd)\n",
    "        x = self.transformer.drop(tok_emb + pos_emb)\n",
    "        for block in self.transformer.h:\n",
    "            x = block(x)\n",
    "        x = self.transformer.ln_f(x)\n",
    "\n",
    "        if targets is not None:\n",
    "            # if we are given some desired targets also calculate the loss\n",
    "            logits = self.lm_head(x)\n",
    "            loss = F.cross_entropy(logits.view(-1, logits.size(-1)), targets.view(-1), ignore_index=-1)\n",
    "        else:\n",
    "            # inference-time mini-optimization: only forward the lm_head on the very last position\n",
    "            logits = self.lm_head(x[:, [-1], :]) # note: using list [-1] to preserve the time dim\n",
    "            loss = None\n",
    "\n",
    "        return logits, loss\n",
    "\n",
    "    def crop_block_size(self, block_size):\n",
    "        # model surgery to decrease the block size if necessary\n",
    "        # e.g. we may load the GPT2 pretrained model checkpoint (block size 1024)\n",
    "        # but want to use a smaller block size for some smaller, simpler model\n",
    "        assert block_size <= self.config.block_size\n",
    "        self.config.block_size = block_size\n",
    "        self.transformer.wpe.weight = nn.Parameter(self.transformer.wpe.weight[:block_size])\n",
    "        for block in self.transformer.h:\n",
    "            if hasattr(block.attn, 'bias'):\n",
    "                block.attn.bias = block.attn.bias[:,:,:block_size,:block_size]\n",
    "\n",
    "    @classmethod\n",
    "    def from_pretrained(cls, model_type, override_args=None):\n",
    "        assert model_type in {'gpt2', 'gpt2-medium', 'gpt2-large', 'gpt2-xl'}\n",
    "        override_args = override_args or {} # default to empty dict\n",
    "        # only dropout can be overridden see more notes below\n",
    "        assert all(k == 'dropout' for k in override_args)\n",
    "        from transformers import GPT2LMHeadModel\n",
    "        print(\"loading weights from pretrained gpt: %s\" % model_type)\n",
    "\n",
    "        # n_layer, n_head and n_embd are determined from model_type\n",
    "        config_args = {\n",
    "            'gpt2':         dict(n_layer=12, n_head=12, n_embd=768),  # 124M params\n",
    "            'gpt2-medium':  dict(n_layer=24, n_head=16, n_embd=1024), # 350M params\n",
    "            'gpt2-large':   dict(n_layer=36, n_head=20, n_embd=1280), # 774M params\n",
    "            'gpt2-xl':      dict(n_layer=48, n_head=25, n_embd=1600), # 1558M params\n",
    "        }[model_type]\n",
    "        print(\"forcing vocab_size=50257, block_size=1024, bias=True\")\n",
    "        config_args['vocab_size'] = 50257 # always 50257 for GPT model checkpoints\n",
    "        config_args['block_size'] = 1024 # always 1024 for GPT model checkpoints\n",
    "        config_args['bias'] = True # always True for GPT model checkpoints\n",
    "        # we can override the dropout rate, if desired\n",
    "        if 'dropout' in override_args:\n",
    "            print(f\"overriding dropout rate to {override_args['dropout']}\")\n",
    "            config_args['dropout'] = override_args['dropout']\n",
    "        # create a from-scratch initialized minGPT model\n",
    "        config = GPTConfig(**config_args)\n",
    "        model = GPT(config)\n",
    "        sd = model.state_dict()\n",
    "        sd_keys = sd.keys()\n",
    "        sd_keys = [k for k in sd_keys if not k.endswith('.attn.bias')] # discard this mask / buffer, not a param\n",
    "\n",
    "        # init a huggingface/transformers model\n",
    "        model_hf = GPT2LMHeadModel.from_pretrained(model_type)\n",
    "        sd_hf = model_hf.state_dict()\n",
    "\n",
    "        # copy while ensuring all of the parameters are aligned and match in names and shapes\n",
    "        sd_keys_hf = sd_hf.keys()\n",
    "        sd_keys_hf = [k for k in sd_keys_hf if not k.endswith('.attn.masked_bias')] # ignore these, just a buffer\n",
    "        sd_keys_hf = [k for k in sd_keys_hf if not k.endswith('.attn.bias')] # same, just the mask (buffer)\n",
    "        transposed = ['attn.c_attn.weight', 'attn.c_proj.weight', 'mlp.c_fc.weight', 'mlp.c_proj.weight']\n",
    "        # basically the openai checkpoints use a \"Conv1D\" module, but we only want to use a vanilla Linear\n",
    "        # this means that we have to transpose these weights when we import them\n",
    "        assert len(sd_keys_hf) == len(sd_keys), f\"mismatched keys: {len(sd_keys_hf)} != {len(sd_keys)}\"\n",
    "        for k in sd_keys_hf:\n",
    "            if any(k.endswith(w) for w in transposed):\n",
    "                # special treatment for the Conv1D weights we need to transpose\n",
    "                assert sd_hf[k].shape[::-1] == sd[k].shape\n",
    "                with torch.no_grad():\n",
    "                    sd[k].copy_(sd_hf[k].t())\n",
    "            else:\n",
    "                # vanilla copy over the other parameters\n",
    "                assert sd_hf[k].shape == sd[k].shape\n",
    "                with torch.no_grad():\n",
    "                    sd[k].copy_(sd_hf[k])\n",
    "\n",
    "        return model\n",
    "\n",
    "    def configure_optimizers(self, weight_decay, learning_rate, betas, device_type):\n",
    "        # start with all of the candidate parameters\n",
    "        param_dict = {pn: p for pn, p in self.named_parameters()}\n",
    "        # filter out those that do not require grad\n",
    "        param_dict = {pn: p for pn, p in param_dict.items() if p.requires_grad}\n",
    "        # create optim groups. Any parameters that is 2D will be weight decayed, otherwise no.\n",
    "        # i.e. all weight tensors in matmuls + embeddings decay, all biases and layernorms don't.\n",
    "        decay_params = [p for n, p in param_dict.items() if p.dim() >= 2]\n",
    "        nodecay_params = [p for n, p in param_dict.items() if p.dim() < 2]\n",
    "        optim_groups = [\n",
    "            {'params': decay_params, 'weight_decay': weight_decay},\n",
    "            {'params': nodecay_params, 'weight_decay': 0.0}\n",
    "        ]\n",
    "        num_decay_params = sum(p.numel() for p in decay_params)\n",
    "        num_nodecay_params = sum(p.numel() for p in nodecay_params)\n",
    "        print(f\"num decayed parameter tensors: {len(decay_params)}, with {num_decay_params:,} parameters\")\n",
    "        print(f\"num non-decayed parameter tensors: {len(nodecay_params)}, with {num_nodecay_params:,} parameters\")\n",
    "        # Create AdamW optimizer and use the fused version if it is available\n",
    "        fused_available = 'fused' in inspect.signature(torch.optim.AdamW).parameters\n",
    "        use_fused = fused_available and device_type == 'cuda'\n",
    "        extra_args = dict(fused=True) if use_fused else dict()\n",
    "        optimizer = torch.optim.AdamW(optim_groups, lr=learning_rate, betas=betas, **extra_args)\n",
    "        print(f\"using fused AdamW: {use_fused}\")\n",
    "\n",
    "        return optimizer\n",
    "\n",
    "    def estimate_mfu(self, fwdbwd_per_iter, dt):\n",
    "        \"\"\" estimate model flops utilization (MFU) in units of A100 bfloat16 peak FLOPS \"\"\"\n",
    "        # first estimate the number of flops we do per iteration.\n",
    "        # see PaLM paper Appendix B as ref: https://arxiv.org/abs/2204.02311\n",
    "        N = self.get_num_params()\n",
    "        cfg = self.config\n",
    "        L, H, Q, T = cfg.n_layer, cfg.n_head, cfg.n_embd//cfg.n_head, cfg.block_size\n",
    "        flops_per_token = 6*N + 12*L*H*Q*T\n",
    "        flops_per_fwdbwd = flops_per_token * T\n",
    "        flops_per_iter = flops_per_fwdbwd * fwdbwd_per_iter\n",
    "        # express our flops throughput as ratio of A100 bfloat16 peak flops\n",
    "        flops_achieved = flops_per_iter * (1.0/dt) # per second\n",
    "        flops_promised = 312e12 # A100 GPU bfloat16 peak flops is 312 TFLOPS\n",
    "        mfu = flops_achieved / flops_promised\n",
    "        return mfu\n",
    "\n",
    "    @torch.no_grad()\n",
    "    def generate(self, idx, max_new_tokens, temperature=1.0, top_k=None):\n",
    "        \"\"\"\n",
    "        Take a conditioning sequence of indices idx (LongTensor of shape (b,t)) and complete\n",
    "        the sequence max_new_tokens times, feeding the predictions back into the model each time.\n",
    "        Most likely you'll want to make sure to be in model.eval() mode of operation for this.\n",
    "        \"\"\"\n",
    "        for _ in range(max_new_tokens):\n",
    "            # if the sequence context is growing too long we must crop it at block_size\n",
    "            idx_cond = idx if idx.size(1) <= self.config.block_size else idx[:, -self.config.block_size:]\n",
    "            # forward the model to get the logits for the index in the sequence\n",
    "            logits, _ = self(idx_cond)\n",
    "            # pluck the logits at the final step and scale by desired temperature\n",
    "            logits = logits[:, -1, :] / temperature\n",
    "            # optionally crop the logits to only the top k options\n",
    "            if top_k is not None:\n",
    "                v, _ = torch.topk(logits, min(top_k, logits.size(-1)))\n",
    "                logits[logits < v[:, [-1]]] = -float('Inf')\n",
    "            # apply softmax to convert logits to (normalized) probabilities\n",
    "            probs = F.softmax(logits, dim=-1)\n",
    "            # sample from the distribution\n",
    "            idx_next = torch.multinomial(probs, num_samples=1)\n",
    "            # append sampled index to the running sequence and continue\n",
    "            idx = torch.cat((idx, idx_next), dim=1)\n",
    "\n",
    "        return idx"
   ]
  },
  {
   "cell_type": "code",
   "execution_count": 74,
   "metadata": {},
   "outputs": [],
   "source": [
    "import os\n",
    "import time\n",
    "import math\n",
    "import pickle\n",
    "from contextlib import nullcontext\n",
    "\n",
    "import numpy as np\n",
    "import torch\n",
    "from torch.nn.parallel import DistributedDataParallel as DDP\n",
    "from torch.distributed import init_process_group, destroy_process_group"
   ]
  },
  {
   "cell_type": "code",
   "execution_count": null,
   "metadata": {},
   "outputs": [],
   "source": [
    "n_layers = 6\n",
    "num_heads = 6\n",
    "embed_size = 384\n",
    "dropout_rate = 0.2\n",
    "\n",
    "max_iters = 5000\n",
    "eval_interval = 500\n",
    "learning_rate = 3e-4\n",
    "device = 'cuda' if torch.cuda.is_available() else 'cpu'\n",
    "eval_iters = 200\n",
    "\n",
    "batch_size = 64 # how many independent sequences will we process in parallel?\n",
    "block_size = 256 # what is the maximum context length for predictions?\n",
    "\n"
   ]
  },
  {
   "cell_type": "code",
   "execution_count": 76,
   "metadata": {},
   "outputs": [],
   "source": [
    "model_args = dict(n_layer=n_layers, \n",
    "                  n_head=num_heads, \n",
    "                  n_embd=embed_size, \n",
    "                  block_size=block_size,\n",
    "                  bias=False, \n",
    "                  vocab_size=vocab_size, \n",
    "                  dropout=dropout_rate) \n"
   ]
  },
  {
   "cell_type": "code",
   "execution_count": 77,
   "metadata": {},
   "outputs": [
    {
     "name": "stdout",
     "output_type": "stream",
     "text": [
      "WARNING: using slow attention. Flash Attention requires PyTorch >= 2.0\n",
      "WARNING: using slow attention. Flash Attention requires PyTorch >= 2.0\n",
      "WARNING: using slow attention. Flash Attention requires PyTorch >= 2.0\n",
      "WARNING: using slow attention. Flash Attention requires PyTorch >= 2.0\n",
      "WARNING: using slow attention. Flash Attention requires PyTorch >= 2.0\n",
      "WARNING: using slow attention. Flash Attention requires PyTorch >= 2.0\n",
      "number of parameters: 10.65M\n"
     ]
    }
   ],
   "source": [
    "gptconf = GPTConfig(**model_args)\n",
    "model = GPT(gptconf)"
   ]
  },
  {
   "cell_type": "code",
   "execution_count": null,
   "metadata": {},
   "outputs": [],
   "source": []
  }
 ],
 "metadata": {
  "kernelspec": {
   "display_name": "tf38",
   "language": "python",
   "name": "python3"
  },
  "language_info": {
   "codemirror_mode": {
    "name": "ipython",
    "version": 3
   },
   "file_extension": ".py",
   "mimetype": "text/x-python",
   "name": "python",
   "nbconvert_exporter": "python",
   "pygments_lexer": "ipython3",
   "version": "3.8.5"
  },
  "orig_nbformat": 4
 },
 "nbformat": 4,
 "nbformat_minor": 2
}
